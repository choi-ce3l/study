{
 "cells": [
  {
   "cell_type": "code",
   "execution_count": 5,
   "metadata": {},
   "outputs": [
    {
     "name": "stdout",
     "output_type": "stream",
     "text": [
      "이탈리아 요리의 시작은 기원전 4세기로 거슬러 올라갈 수 있다. 대항해시대를 거치면서 아메리카 대륙에서 감자·토마토·후추·옥수수 등이 유입되어 그 종류와 풍미가 다양해졌고 현대에 이르러서는 피자와 파스타 등 많은 이탈리아 요리가 널리 퍼지게 되었다.\n",
      "[<selenium.webdriver.remote.webelement.WebElement (session=\"70124487eeaac05318cb76f076a6b334\", element=\"f.ADD6EE3E6EC4EED5D2064A177630D3D7.d.120AB40AEB000C1AC642AC51C5E8E6F2.e.2\")>, <selenium.webdriver.remote.webelement.WebElement (session=\"70124487eeaac05318cb76f076a6b334\", element=\"f.ADD6EE3E6EC4EED5D2064A177630D3D7.d.120AB40AEB000C1AC642AC51C5E8E6F2.e.3\")>]\n"
     ]
    }
   ],
   "source": [
    "from selenium import webdriver\n",
    "from selenium.webdriver.common.by import By\n",
    "import time\n",
    "\n",
    "driver=webdriver.Chrome()\n",
    "driver.get('https://crawlingstudy-dd3c9.web.app/01/')\n",
    "#time.sleep(3)\n",
    "\n",
    "p_tag=driver.find_element(By.CSS_SELECTOR,'p').text\n",
    "p_tags=driver.find_elements(By.CSS_SELECTOR,'p')#리스트에서 text 안되자나\n",
    "print(p_tag)\n",
    "print(p_tags)\n",
    "#element.get_attribute('속성명') #옵션(속성)\n",
    "#driver.implicitly_wait(초)\n",
    "\n",
    "driver.quit()"
   ]
  },
  {
   "cell_type": "code",
   "execution_count": null,
   "metadata": {},
   "outputs": [],
   "source": [
    "from selenium import webdriver\n",
    "from selenium.webdriver.common.by import By\n",
    "import time\n",
    "\n",
    "driver=webdriver.Chrome()\n",
    "driver.implicitly_wait(1)\n",
    "\n",
    "driver.get('https://crawlingstudy-dd3c9.web.app/01/')\n",
    "a_tag=driver.find_element(By.CSS_SELECTOR,'a').click()\n",
    "time.sleep(0.5)\n",
    "\n",
    "p_tag=driver.find_element(By.CSS_SELECTOR,'p').text\n",
    "print(p_tag)\n",
    "\n",
    "driver.quit()"
   ]
  },
  {
   "cell_type": "code",
   "execution_count": 8,
   "metadata": {},
   "outputs": [],
   "source": [
    "from selenium import webdriver\n",
    "from selenium.webdriver.common.by import By\n",
    "import time\n",
    "\n",
    "driver=webdriver.Chrome()\n",
    "driver.implicitly_wait(1)\n",
    "\n",
    "driver.get('https://www.naver.com/')\n",
    "driver.find_element(By.CSS_SELECTOR,'#account div a').click()\n",
    "time.sleep(0.5)\n",
    "driver.find_element(By.CSS_SELECTOR,'#id').send_keys('hyunjung083l')\n",
    "driver.find_element(By.CSS_SELECTOR,'#pw').send_keys('')\n",
    "driver.find_element(By.CSS_SELECTOR,'#log\\.login').click()\n",
    "time.sleep(0.5)\n",
    "\n",
    "# p_tag=driver.find_element(By.CSS_SELECTOR,'p').text\n",
    "# print(p_tag)\n",
    "\n",
    "driver.quit()"
   ]
  },
  {
   "cell_type": "code",
   "execution_count": 12,
   "metadata": {},
   "outputs": [
    {
     "name": "stdout",
     "output_type": "stream",
     "text": [
      "8990\n"
     ]
    }
   ],
   "source": [
    "from selenium import webdriver\n",
    "from selenium.webdriver.common.by import By\n",
    "import time\n",
    "\n",
    "driver=webdriver.Chrome()\n",
    "driver.implicitly_wait(1)\n",
    "\n",
    "driver.get('https://crawlingstudy-dd3c9.web.app/04/')\n",
    "\n",
    "time.sleep(0.5)\n",
    "height=driver.execute_script('return document.body.scrollHeight')\n",
    "print(height)\n",
    "\n",
    "driver.execute_script('window.scrollTo(0,document.body.scrollHeight);')\n",
    "time.sleep(0.5)\n",
    "\n",
    "driver.quit()"
   ]
  }
 ],
 "metadata": {
  "kernelspec": {
   "display_name": "web",
   "language": "python",
   "name": "python3"
  },
  "language_info": {
   "codemirror_mode": {
    "name": "ipython",
    "version": 3
   },
   "file_extension": ".py",
   "mimetype": "text/x-python",
   "name": "python",
   "nbconvert_exporter": "python",
   "pygments_lexer": "ipython3",
   "version": "3.10.14"
  }
 },
 "nbformat": 4,
 "nbformat_minor": 2
}
